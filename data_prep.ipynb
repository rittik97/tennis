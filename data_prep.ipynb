{
 "cells": [
  {
   "cell_type": "code",
   "execution_count": 2,
   "metadata": {},
   "outputs": [],
   "source": [
    "import pandas as pd\n",
    "import numpy as np\n",
    "import matplotlib.pyplot as plt\n",
    "import sys, os\n",
    "import uuid\n",
    "\n",
    "from sklearn.linear_model import LogisticRegression\n",
    "from sklearn.model_selection import train_test_split\n",
    "from sklearn.preprocessing import LabelBinarizer, StandardScaler, LabelEncoder\n",
    "\n",
    "from sklearn.impute import SimpleImputer\n",
    "\n",
    "from sklearn_pandas import DataFrameMapper\n",
    "\n",
    "from sklearn.metrics import accuracy_score,r2_score, roc_auc_score\n",
    "#import dask\n",
    "#import dask.dataframe as dd\n"
   ]
  },
  {
   "cell_type": "code",
   "execution_count": null,
   "metadata": {},
   "outputs": [],
   "source": [
    "data_2017=pd.read_csv(\"data/2017.csv\")\n",
    "data_2018=pd.read_csv(\"data/2018.csv\")\n",
    "data_2019=pd.read_csv(\"data/2019.csv\")\n",
    "data_2020=pd.read_csv(\"data/2020.csv\")\n",
    "\n",
    "useful_columns=data_2020.columns[:30]\n",
    "data_2016=pd.read_csv(\"data/2016.csv\", encoding = \"ISO-8859-1\")\n",
    "data_2016=data_2016[useful_columns]"
   ]
  },
  {
   "cell_type": "code",
   "execution_count": null,
   "metadata": {},
   "outputs": [],
   "source": [
    "data_2015=pd.read_csv(\"data/2015.csv\", encoding = \"ISO-8859-1\")\n",
    "data_2015=data_2015[useful_columns]\n",
    "\n",
    "data_2014=pd.read_csv(\"data/2014.csv\", encoding = \"ISO-8859-1\")\n",
    "data_2014=data_2014[useful_columns]\n",
    "\n",
    "data_2013=pd.read_csv(\"data/2013.csv\", encoding = \"ISO-8859-1\")\n",
    "data_2013=data_2013[useful_columns]\n",
    "\n",
    "data_2012=pd.read_csv(\"data/2012.csv\", encoding = \"ISO-8859-1\")\n",
    "data_2012=data_2012[useful_columns]\n",
    "\n",
    "data_2011=pd.read_csv(\"data/2011.csv\", encoding = \"ISO-8859-1\")\n",
    "data_2011=data_2011[useful_columns]\n",
    "\n",
    "data_2010=pd.read_csv(\"data/2010.csv\", encoding = \"ISO-8859-1\")\n",
    "data_2010=data_2010[useful_columns]"
   ]
  },
  {
   "cell_type": "code",
   "execution_count": null,
   "metadata": {},
   "outputs": [],
   "source": [
    "data=data_2020.append(data_2019,sort=True)\n",
    "data=data.append(data_2018 ,sort=True)\n",
    "data=data.append(data_2017,sort=True)\n",
    "\n",
    "data=data[useful_columns]\n",
    "data=data.append(data_2016)\n",
    "data=data.append(data_2016,sort=True)\n",
    "data=data.append(data_2015,sort=True)\n",
    "data=data.append(data_2014,sort=True)\n",
    "data=data.append(data_2013,sort=True)\n",
    "data=data.append(data_2012,sort=True)\n",
    "data=data.append(data_2011,sort=True)\n",
    "data=data.append(data_2010,sort=True)"
   ]
  },
  {
   "cell_type": "code",
   "execution_count": null,
   "metadata": {},
   "outputs": [],
   "source": [
    "data.to_csv('data/combined.csv')"
   ]
  },
  {
   "cell_type": "code",
   "execution_count": 7,
   "metadata": {},
   "outputs": [],
   "source": [
    "data=pd.read_csv('data/combined.csv')"
   ]
  },
  {
   "cell_type": "code",
   "execution_count": null,
   "metadata": {},
   "outputs": [],
   "source": []
  },
  {
   "cell_type": "code",
   "execution_count": null,
   "metadata": {},
   "outputs": [],
   "source": [
    "#data=dd.read_csv('data/combined.csv', blocksize=1.5e6)"
   ]
  },
  {
   "cell_type": "code",
   "execution_count": 8,
   "metadata": {},
   "outputs": [
    {
     "data": {
      "text/plain": [
       "Best of\n",
       "3    0.807921\n",
       "5    0.192079\n",
       "Name: Best of, dtype: float64"
      ]
     },
     "execution_count": 8,
     "metadata": {},
     "output_type": "execute_result"
    }
   ],
   "source": [
    "# Samples by number of set\n",
    "data.groupby(\"Best of\")['Best of'].count()/len(data)"
   ]
  },
  {
   "cell_type": "code",
   "execution_count": 9,
   "metadata": {},
   "outputs": [
    {
     "name": "stdout",
     "output_type": "stream",
     "text": [
      "% of games with only top 100 players:  0.6578956431892543\n"
     ]
    }
   ],
   "source": [
    "print(\"% of games with only top 100 players: \",len(data[(data.WRank<=100) & (data.LRank<=100)])/len(data))"
   ]
  },
  {
   "cell_type": "code",
   "execution_count": 10,
   "metadata": {},
   "outputs": [],
   "source": [
    "# Removing NaNs\n",
    "data=(data[(data.WRank>=1) & (data.LRank>=1)])"
   ]
  },
  {
   "cell_type": "code",
   "execution_count": 11,
   "metadata": {},
   "outputs": [],
   "source": [
    "data['rank_diff']=data['LRank'] - data['WRank']\n",
    "#data.map_partitions"
   ]
  },
  {
   "cell_type": "code",
   "execution_count": 12,
   "metadata": {},
   "outputs": [],
   "source": [
    "data['outcome']=data[['WRank','LRank']].apply(lambda x: 1 if x.WRank<x.LRank else 0, axis=1)"
   ]
  },
  {
   "cell_type": "code",
   "execution_count": 13,
   "metadata": {},
   "outputs": [
    {
     "data": {
      "text/plain": [
       "outcome\n",
       "0    0.340124\n",
       "1    0.659876\n",
       "Name: outcome, dtype: float64"
      ]
     },
     "execution_count": 13,
     "metadata": {},
     "output_type": "execute_result"
    }
   ],
   "source": [
    "#% of time the higher ranked player wins\n",
    "data.groupby(\"outcome\")['outcome'].count()/len(data)"
   ]
  },
  {
   "cell_type": "code",
   "execution_count": 14,
   "metadata": {},
   "outputs": [],
   "source": [
    "def player_one(Winner,WRank,Loser,LRank):\n",
    "        if WRank<LRank:\n",
    "            return Winner\n",
    "        else:\n",
    "            return Loser\n",
    "\n",
    "def player_two(Winner,WRank,Loser,LRank):\n",
    "        if WRank<LRank:\n",
    "            return Loser\n",
    "        else:\n",
    "            return Winner\n",
    "        \n",
    "def player_one_rank(Winner,WRank,Loser,LRank):\n",
    "        if WRank<LRank:\n",
    "            return WRank\n",
    "        else:\n",
    "            return LRank\n",
    "\n",
    "def player_two_rank(Winner,WRank,Loser,LRank):\n",
    "        if WRank<LRank:\n",
    "            return LRank\n",
    "        else:\n",
    "            return WRank        "
   ]
  },
  {
   "cell_type": "code",
   "execution_count": 15,
   "metadata": {},
   "outputs": [
    {
     "name": "stdout",
     "output_type": "stream",
     "text": [
      "CPU times: user 2.27 s, sys: 43.4 ms, total: 2.32 s\n",
      "Wall time: 2.32 s\n"
     ]
    }
   ],
   "source": [
    "%%time \n",
    "data['player_one']=data.apply(lambda row: player_one(row['Winner'],row['WRank'], row['Loser'], row['LRank']), axis=1)\n",
    "data['player_two']=data.apply(lambda row: player_two(row['Winner'],row['WRank'], row['Loser'], row['LRank']), axis=1)"
   ]
  },
  {
   "cell_type": "code",
   "execution_count": 16,
   "metadata": {},
   "outputs": [],
   "source": [
    "data['player_one_rank']=data.apply(lambda row: player_one_rank(row['Winner'],row['WRank'], row['Loser'], row['LRank']), axis=1)\n",
    "data['player_two_rank']=data.apply(lambda row: player_two_rank(row['Winner'],row['WRank'], row['Loser'], row['LRank']), axis=1)"
   ]
  },
  {
   "cell_type": "code",
   "execution_count": 17,
   "metadata": {},
   "outputs": [],
   "source": [
    "data['uuid'] = [uuid.uuid4() for _ in range(len(data.index))]"
   ]
  },
  {
   "cell_type": "code",
   "execution_count": 18,
   "metadata": {},
   "outputs": [],
   "source": [
    "data=data.set_index(data['uuid'])"
   ]
  },
  {
   "cell_type": "code",
   "execution_count": 19,
   "metadata": {},
   "outputs": [],
   "source": [
    "data.Date=(pd.to_datetime(data.Date))"
   ]
  },
  {
   "cell_type": "code",
   "execution_count": 20,
   "metadata": {},
   "outputs": [
    {
     "name": "stdout",
     "output_type": "stream",
     "text": [
      "CPU times: user 9min 17s, sys: 3.6 s, total: 9min 21s\n",
      "Wall time: 9min 37s\n"
     ]
    }
   ],
   "source": [
    "%%time\n",
    "def cal_player_stats(name,date,uuid):\n",
    "    three=0.0\n",
    "    five=0.0\n",
    "    clay=0.0\n",
    "    hard=0.0\n",
    "    grass=0.0\n",
    "    try:\n",
    "        temp=data[(data.player_one==name) | (data.player_two==name)]\n",
    "        cutoff_date=date-pd.Timedelta(days=366)\n",
    "        temp=temp[temp.Date>cutoff_date].iloc[1:,:]\n",
    "        if (len(temp)==0):\n",
    "            return \n",
    "        else:\n",
    "            \n",
    "            d={}\n",
    "            for i in temp['Best of'].unique():\n",
    "                d[str(i)]=(len(temp[(temp['Best of']==i) & (temp.outcome==1) & (temp.player_one==name)]))/(len(temp[temp['Best of']==i]))\n",
    "            for i in temp.Surface.unique():\n",
    "                d[i]=(len(temp[(temp.Surface==i) & (temp.outcome==1) & (temp.player_one==name)]))/(len(temp[temp.Surface==i]))    \n",
    "            if '3' in d:\n",
    "                three = (d['3'])\n",
    "            if '5' in d:\n",
    "                five = (d['5'])\n",
    "            if 'Grass' in d:\n",
    "                grass = (d['Grass'])\n",
    "            if 'Hard' in d:\n",
    "                hard = (d['Hard'])       \n",
    "            if 'Clay' in d:\n",
    "                clay = (d['Clay'])        \n",
    "            return pd.Series([uuid,name,date,cutoff_date,np.sum(temp.outcome==1)/len(temp),len(temp), clay, grass, hard, three, five])\n",
    "    except Exception as e:\n",
    "        exc_type, exc_obj, exc_tb = sys.exc_info()\n",
    "        fname = os.path.split(exc_tb.tb_frame.f_code.co_filename)[1]\n",
    "        print(exc_tb.tb_lineno, name, date)\n",
    "\n",
    "\n",
    "x=data[(data.Date>='2011-01-01')].apply(lambda row: cal_player_stats(row['player_one'],row['Date'], row['uuid']), axis=1)"
   ]
  },
  {
   "cell_type": "code",
   "execution_count": 21,
   "metadata": {},
   "outputs": [],
   "source": [
    "t=x"
   ]
  },
  {
   "cell_type": "code",
   "execution_count": 22,
   "metadata": {},
   "outputs": [],
   "source": [
    "x=pd.DataFrame(x)\n",
    "x.columns=['uuid','one_name','one_date','one_cutoff_date','one_win_rate_year','one_games_played_year'\n",
    "           ,'one_clay_year','one_grass_year','one_hard_year','one_three_year','one_five_year']\n",
    "x=x.set_index('uuid')"
   ]
  },
  {
   "cell_type": "code",
   "execution_count": 23,
   "metadata": {},
   "outputs": [],
   "source": [
    "new_data=data.merge(x,how='left', left_index=True, right_index=True)"
   ]
  },
  {
   "cell_type": "code",
   "execution_count": 24,
   "metadata": {},
   "outputs": [
    {
     "name": "stdout",
     "output_type": "stream",
     "text": [
      "CPU times: user 8min 56s, sys: 3.62 s, total: 8min 59s\n",
      "Wall time: 9min 11s\n"
     ]
    }
   ],
   "source": [
    "%%time\n",
    "x=data[(data.Date>='2011-01-01')].apply(lambda row: cal_player_stats(row['player_two'],row['Date'], row['uuid']), axis=1)"
   ]
  },
  {
   "cell_type": "code",
   "execution_count": 25,
   "metadata": {},
   "outputs": [],
   "source": [
    "x=pd.DataFrame(x)\n",
    "x.columns=['uuid','two_name','two_date','two_cutoff_date','two_win_rate_year','two_games_played_year'\n",
    "           ,'two_clay_year','two_grass_year','two_hard_year','two_three_year','two_five_year']\n",
    "x=x.set_index('uuid')"
   ]
  },
  {
   "cell_type": "code",
   "execution_count": 26,
   "metadata": {},
   "outputs": [],
   "source": [
    "new_data=new_data.merge(x,how='left', left_index=True, right_index=True)"
   ]
  },
  {
   "cell_type": "code",
   "execution_count": 27,
   "metadata": {},
   "outputs": [
    {
     "data": {
      "text/plain": [
       "Index(['Unnamed: 0', 'ATP', 'B365L', 'B365W', 'Best of', 'Comment', 'Court',\n",
       "       'Date', 'L1', 'L2', 'L3', 'L4', 'L5', 'LPts', 'LRank', 'Location',\n",
       "       'Loser', 'Lsets', 'Round', 'Series', 'Surface', 'Tournament', 'W1',\n",
       "       'W2', 'W3', 'W4', 'W5', 'WPts', 'WRank', 'Winner', 'Wsets', 'rank_diff',\n",
       "       'outcome', 'player_one', 'player_two', 'player_one_rank',\n",
       "       'player_two_rank', 'uuid', 'one_name', 'one_date', 'one_cutoff_date',\n",
       "       'one_win_rate_year', 'one_games_played_year', 'one_clay_year',\n",
       "       'one_grass_year', 'one_hard_year', 'one_three_year', 'one_five_year',\n",
       "       'two_name', 'two_date', 'two_cutoff_date', 'two_win_rate_year',\n",
       "       'two_games_played_year', 'two_clay_year', 'two_grass_year',\n",
       "       'two_hard_year', 'two_three_year', 'two_five_year'],\n",
       "      dtype='object')"
      ]
     },
     "execution_count": 27,
     "metadata": {},
     "output_type": "execute_result"
    }
   ],
   "source": [
    "new_data.columns"
   ]
  },
  {
   "cell_type": "code",
   "execution_count": 28,
   "metadata": {},
   "outputs": [],
   "source": [
    "top_tournaments=[\n",
    "'Australian Open',\n",
    "'US Open',\n",
    "'Wimbledon',\n",
    "'French Open',\n",
    "]\n",
    "new_data['major']=new_data.Tournament.apply(lambda x: 1 if x in top_tournaments else 0)"
   ]
  },
  {
   "cell_type": "code",
   "execution_count": 29,
   "metadata": {},
   "outputs": [],
   "source": [
    "t=new_data"
   ]
  },
  {
   "cell_type": "code",
   "execution_count": 30,
   "metadata": {},
   "outputs": [],
   "source": [
    "totalgames=new_data.loc[:,['W1', 'W2', 'W3', 'W4', 'W5','L1', 'L2', 'L3', 'L4', 'L5']]"
   ]
  },
  {
   "cell_type": "code",
   "execution_count": 31,
   "metadata": {},
   "outputs": [],
   "source": [
    "new_data['total_games']=totalgames.fillna(0).sum(axis=1)"
   ]
  },
  {
   "cell_type": "code",
   "execution_count": 32,
   "metadata": {},
   "outputs": [],
   "source": [
    "new_data['player_one_total_games']=totalgames[['W1', 'W2', 'W3', 'W4', 'W5']].fillna(0).sum(axis=1)"
   ]
  },
  {
   "cell_type": "code",
   "execution_count": 33,
   "metadata": {},
   "outputs": [],
   "source": [
    "new_data['player_two_total_games']=totalgames[['L1', 'L2', 'L3', 'L4', 'L5']].fillna(0).sum(axis=1)"
   ]
  },
  {
   "cell_type": "code",
   "execution_count": 34,
   "metadata": {},
   "outputs": [],
   "source": [
    "new_data['total_sets']=new_data['Wsets']+new_data['Lsets']"
   ]
  },
  {
   "cell_type": "code",
   "execution_count": 35,
   "metadata": {},
   "outputs": [
    {
     "data": {
      "image/png": "[encoded data removed]",
      "text/plain": [
       "<Figure size 432x288 with 1 Axes>"
      ]
     },
     "metadata": {
      "needs_background": "light"
     },
     "output_type": "display_data"
    }
   ],
   "source": [
    "plt.hist(new_data[new_data['Best of']==3].total_games);"
   ]
  },
  {
   "cell_type": "code",
   "execution_count": 36,
   "metadata": {},
   "outputs": [],
   "source": [
    "def calc_rate(x,y):\n",
    "    if (x+y)>0:\n",
    "      return x/(x+y)\n",
    "    return 0.0  \n",
    "\n",
    "def onevtwo(player_one_name,player_two_name,cut_off_date,uuid):\n",
    "    three=0.0\n",
    "    five=0.0\n",
    "    clay=0.0\n",
    "    hard=0.0\n",
    "    grass=0.0\n",
    "    win_rate=0.0\n",
    "    total=0.0\n",
    "    d={}\n",
    "    try:\n",
    "        temp=data[data.Date>cut_off_date].iloc[1:,:]\n",
    "        wins=temp[(temp.Winner==player_one_name) & (temp.Loser==player_two_name)]\n",
    "        losses=temp[(temp.Loser==player_one_name) & (temp.Winner==player_two_name)]\n",
    "        #win_rate=calc_rate(len(wins),len(losses))\n",
    "        total=len(wins)+len(losses)\n",
    "        if total >0:\n",
    "            win_rate= len(wins)/total\n",
    "        #return 0.0\n",
    "        \n",
    "        for i in temp['Best of'].unique():\n",
    "            d[str(i)]=calc_rate(len(wins[wins['Best of']==i]),len(losses[losses['Best of']==i]))\n",
    "                \n",
    "        for i in temp.Surface.unique():\n",
    "                d[i]=calc_rate(len(wins[wins.Surface==i]),len(losses[losses.Surface==i]))\n",
    "        if '3' in d:\n",
    "                three = (d['3'])\n",
    "        if '5' in d:\n",
    "                five = (d['5'])\n",
    "        if 'Grass' in d:\n",
    "                grass = (d['Grass'])\n",
    "        if 'Hard' in d:\n",
    "                hard = (d['Hard'])       \n",
    "        if 'Clay' in d:\n",
    "                clay = (d['Clay'])        \n",
    "        return pd.Series([uuid,player_one_name,cut_off_date,win_rate,total, clay, grass, hard, three, five])\n",
    "    except Exception as e:\n",
    "        exc_type, exc_obj, exc_tb = sys.exc_info()\n",
    "        fname = os.path.split(exc_tb.tb_frame.f_code.co_filename)[1]\n",
    "        print(exc_tb.tb_lineno, player_one_name, cut_off_date)\n"
   ]
  },
  {
   "cell_type": "code",
   "execution_count": 37,
   "metadata": {},
   "outputs": [
    {
     "name": "stdout",
     "output_type": "stream",
     "text": [
      "CPU times: user 8min 19s, sys: 22.7 s, total: 8min 42s\n",
      "Wall time: 8min 47s\n"
     ]
    }
   ],
   "source": [
    "%%time\n",
    "x=new_data[(new_data.Date>='2011-01-01')].apply(lambda row: onevtwo(row['Loser'],row['Winner'],row['two_cutoff_date'], row['uuid']), axis=1)"
   ]
  },
  {
   "cell_type": "code",
   "execution_count": 38,
   "metadata": {},
   "outputs": [],
   "source": [
    "x=pd.DataFrame(x)\n",
    "x.columns=['uuid','player_two_name_vv','two_cutoff_date_vv','two_win_rate_vv','two_games_played_vv'\n",
    "           ,'two_clay_vv','two_grass_vv','two_hard_vv','two_three_vv','two_five_vv']\n",
    "x=x.set_index('uuid')"
   ]
  },
  {
   "cell_type": "code",
   "execution_count": 39,
   "metadata": {},
   "outputs": [],
   "source": [
    "new_data=new_data.merge(x,how='left', left_index=True, right_index=True)"
   ]
  },
  {
   "cell_type": "code",
   "execution_count": 40,
   "metadata": {},
   "outputs": [
    {
     "name": "stdout",
     "output_type": "stream",
     "text": [
      "CPU times: user 8min 36s, sys: 23.9 s, total: 9min\n",
      "Wall time: 9min 17s\n"
     ]
    }
   ],
   "source": [
    "%%time\n",
    "x=new_data[(new_data.Date>='2011-01-01')].apply(lambda row: onevtwo(row['Winner'],row['Loser'],row['one_cutoff_date'], row['uuid']), axis=1)"
   ]
  },
  {
   "cell_type": "code",
   "execution_count": 41,
   "metadata": {},
   "outputs": [],
   "source": [
    "x=pd.DataFrame(x)\n",
    "x.columns=['uuid','player_one_name_vv','one_cutoff_date_vv','one_win_rate_vv','one_games_played_vv'\n",
    "           ,'one_clay_vv','one_grass_vv','one_hard_vv','one_three_vv','one_five_vv']\n",
    "x=x.set_index('uuid')"
   ]
  },
  {
   "cell_type": "code",
   "execution_count": 42,
   "metadata": {},
   "outputs": [],
   "source": [
    "new_data=new_data.merge(x,how='left', left_index=True, right_index=True)"
   ]
  },
  {
   "cell_type": "code",
   "execution_count": 43,
   "metadata": {},
   "outputs": [],
   "source": [
    "new_data['pts_diff']=new_data['WPts'] - new_data['LPts']"
   ]
  },
  {
   "cell_type": "code",
   "execution_count": 44,
   "metadata": {},
   "outputs": [],
   "source": [
    "def player_one_pts(WRank,WPts,LRank,LPts):\n",
    "        if WRank<LRank:\n",
    "            return WPts\n",
    "        else:\n",
    "            return LPts\n",
    "\n",
    "def player_two_pts(WRank,WPts,LRank,LPts):\n",
    "        if WRank<LRank:\n",
    "            return LPts\n",
    "        else:\n",
    "            return WPts\n",
    "        \n",
    "def player_one_sets(WRank,Wsets,LRank,Lsets):\n",
    "        if WRank<LRank:\n",
    "            return Wsets\n",
    "        else:\n",
    "            return Lsets\n",
    "        \n",
    "def player_two_sets(WRank,Wsets,LRank,Lsets):\n",
    "        if WRank<LRank:\n",
    "            return Lsets\n",
    "        else:\n",
    "            return Wsets        "
   ]
  },
  {
   "cell_type": "code",
   "execution_count": 45,
   "metadata": {},
   "outputs": [
    {
     "name": "stdout",
     "output_type": "stream",
     "text": [
      "CPU times: user 4.43 s, sys: 319 ms, total: 4.75 s\n",
      "Wall time: 4.73 s\n"
     ]
    }
   ],
   "source": [
    "%%time \n",
    "new_data['player_one_pts']=new_data.apply(lambda row: player_one_pts(row['WRank'],row['WPts'], row['LRank'], row['LPts']), axis=1)\n",
    "new_data['player_two_pts']=new_data.apply(lambda row: player_two_pts(row['WRank'],row['WPts'], row['LRank'], row['LPts']), axis=1)"
   ]
  },
  {
   "cell_type": "code",
   "execution_count": 46,
   "metadata": {},
   "outputs": [
    {
     "name": "stdout",
     "output_type": "stream",
     "text": [
      "CPU times: user 4.38 s, sys: 147 ms, total: 4.53 s\n",
      "Wall time: 4.27 s\n"
     ]
    }
   ],
   "source": [
    "%%time \n",
    "new_data['player_one_sets']=new_data.apply(lambda row: player_one_sets(row['WRank'],row['Wsets'], row['LRank'], row['Lsets']), axis=1)\n",
    "new_data['player_two_sets']=new_data.apply(lambda row: player_two_sets(row['WRank'],row['Wsets'], row['LRank'], row['Lsets']), axis=1)"
   ]
  },
  {
   "cell_type": "code",
   "execution_count": null,
   "metadata": {},
   "outputs": [],
   "source": []
  },
  {
   "cell_type": "code",
   "execution_count": 47,
   "metadata": {},
   "outputs": [
    {
     "data": {
      "text/html": [
       "<div>\n",
       "<style scoped>\n",
       "    .dataframe tbody tr th:only-of-type {\n",
       "        vertical-align: middle;\n",
       "    }\n",
       "\n",
       "    .dataframe tbody tr th {\n",
       "        vertical-align: top;\n",
       "    }\n",
       "\n",
       "    .dataframe thead th {\n",
       "        text-align: right;\n",
       "    }\n",
       "</style>\n",
       "<table border=\"1\" class=\"dataframe\">\n",
       "  <thead>\n",
       "    <tr style=\"text-align: right;\">\n",
       "      <th></th>\n",
       "      <th>Unnamed: 0</th>\n",
       "      <th>ATP</th>\n",
       "      <th>B365L</th>\n",
       "      <th>B365W</th>\n",
       "      <th>Best of</th>\n",
       "      <th>Comment</th>\n",
       "      <th>Court</th>\n",
       "      <th>Date</th>\n",
       "      <th>L1</th>\n",
       "      <th>L2</th>\n",
       "      <th>...</th>\n",
       "      <th>one_clay_vv</th>\n",
       "      <th>one_grass_vv</th>\n",
       "      <th>one_hard_vv</th>\n",
       "      <th>one_three_vv</th>\n",
       "      <th>one_five_vv</th>\n",
       "      <th>pts_diff</th>\n",
       "      <th>player_one_pts</th>\n",
       "      <th>player_two_pts</th>\n",
       "      <th>player_one_sets</th>\n",
       "      <th>player_two_sets</th>\n",
       "    </tr>\n",
       "    <tr>\n",
       "      <th>uuid</th>\n",
       "      <th></th>\n",
       "      <th></th>\n",
       "      <th></th>\n",
       "      <th></th>\n",
       "      <th></th>\n",
       "      <th></th>\n",
       "      <th></th>\n",
       "      <th></th>\n",
       "      <th></th>\n",
       "      <th></th>\n",
       "      <th></th>\n",
       "      <th></th>\n",
       "      <th></th>\n",
       "      <th></th>\n",
       "      <th></th>\n",
       "      <th></th>\n",
       "      <th></th>\n",
       "      <th></th>\n",
       "      <th></th>\n",
       "      <th></th>\n",
       "      <th></th>\n",
       "    </tr>\n",
       "  </thead>\n",
       "  <tbody>\n",
       "    <tr>\n",
       "      <th>000569ca-bcdb-4266-98a0-b409cb8932ff</th>\n",
       "      <td>383</td>\n",
       "      <td>11</td>\n",
       "      <td>5.00</td>\n",
       "      <td>1.16</td>\n",
       "      <td>3</td>\n",
       "      <td>Completed</td>\n",
       "      <td>Indoor</td>\n",
       "      <td>2016-02-09</td>\n",
       "      <td>3.0</td>\n",
       "      <td>4.0</td>\n",
       "      <td>...</td>\n",
       "      <td>0.0</td>\n",
       "      <td>0.0</td>\n",
       "      <td>1.0</td>\n",
       "      <td>1.0</td>\n",
       "      <td>0.0</td>\n",
       "      <td>301.0</td>\n",
       "      <td>414.0</td>\n",
       "      <td>113.0</td>\n",
       "      <td>2.0</td>\n",
       "      <td>0.0</td>\n",
       "    </tr>\n",
       "    <tr>\n",
       "      <th>00056f39-ba9b-4807-ac20-cbbcf9e2c304</th>\n",
       "      <td>1887</td>\n",
       "      <td>45</td>\n",
       "      <td>1.36</td>\n",
       "      <td>3.00</td>\n",
       "      <td>3</td>\n",
       "      <td>Retired</td>\n",
       "      <td>Outdoor</td>\n",
       "      <td>2010-08-04</td>\n",
       "      <td>5.0</td>\n",
       "      <td>2.0</td>\n",
       "      <td>...</td>\n",
       "      <td>NaN</td>\n",
       "      <td>NaN</td>\n",
       "      <td>NaN</td>\n",
       "      <td>NaN</td>\n",
       "      <td>NaN</td>\n",
       "      <td>-610.0</td>\n",
       "      <td>1385.0</td>\n",
       "      <td>775.0</td>\n",
       "      <td>0.0</td>\n",
       "      <td>1.0</td>\n",
       "    </tr>\n",
       "    <tr>\n",
       "      <th>000a7190-03aa-44b3-b631-e85d00f265ea</th>\n",
       "      <td>1537</td>\n",
       "      <td>39</td>\n",
       "      <td>3.00</td>\n",
       "      <td>1.36</td>\n",
       "      <td>5</td>\n",
       "      <td>Completed</td>\n",
       "      <td>Outdoor</td>\n",
       "      <td>2015-06-29</td>\n",
       "      <td>3.0</td>\n",
       "      <td>7.0</td>\n",
       "      <td>...</td>\n",
       "      <td>0.0</td>\n",
       "      <td>1.0</td>\n",
       "      <td>1.0</td>\n",
       "      <td>1.0</td>\n",
       "      <td>1.0</td>\n",
       "      <td>347.0</td>\n",
       "      <td>895.0</td>\n",
       "      <td>548.0</td>\n",
       "      <td>3.0</td>\n",
       "      <td>2.0</td>\n",
       "    </tr>\n",
       "    <tr>\n",
       "      <th>000c3ad6-ac2d-4ca8-abe9-853099f8a568</th>\n",
       "      <td>597</td>\n",
       "      <td>18</td>\n",
       "      <td>19.00</td>\n",
       "      <td>1.02</td>\n",
       "      <td>3</td>\n",
       "      <td>Completed</td>\n",
       "      <td>Outdoor</td>\n",
       "      <td>2012-02-28</td>\n",
       "      <td>3.0</td>\n",
       "      <td>6.0</td>\n",
       "      <td>...</td>\n",
       "      <td>1.0</td>\n",
       "      <td>0.0</td>\n",
       "      <td>1.0</td>\n",
       "      <td>1.0</td>\n",
       "      <td>1.0</td>\n",
       "      <td>6663.0</td>\n",
       "      <td>7150.0</td>\n",
       "      <td>487.0</td>\n",
       "      <td>2.0</td>\n",
       "      <td>1.0</td>\n",
       "    </tr>\n",
       "    <tr>\n",
       "      <th>0014c43e-cdee-41e7-a5f8-60a15a6f9cc2</th>\n",
       "      <td>2510</td>\n",
       "      <td>63</td>\n",
       "      <td>9.00</td>\n",
       "      <td>1.07</td>\n",
       "      <td>3</td>\n",
       "      <td>Completed</td>\n",
       "      <td>Indoor</td>\n",
       "      <td>2016-10-25</td>\n",
       "      <td>7.0</td>\n",
       "      <td>1.0</td>\n",
       "      <td>...</td>\n",
       "      <td>0.0</td>\n",
       "      <td>0.0</td>\n",
       "      <td>1.0</td>\n",
       "      <td>1.0</td>\n",
       "      <td>0.0</td>\n",
       "      <td>5311.0</td>\n",
       "      <td>5820.0</td>\n",
       "      <td>509.0</td>\n",
       "      <td>2.0</td>\n",
       "      <td>1.0</td>\n",
       "    </tr>\n",
       "  </tbody>\n",
       "</table>\n",
       "<p>5 rows × 86 columns</p>\n",
       "</div>"
      ],
      "text/plain": [
       "                                      Unnamed: 0  ATP  B365L  B365W  Best of  \\\n",
       "uuid                                                                           \n",
       "000569ca-bcdb-4266-98a0-b409cb8932ff         383   11   5.00   1.16        3   \n",
       "00056f39-ba9b-4807-ac20-cbbcf9e2c304        1887   45   1.36   3.00        3   \n",
       "000a7190-03aa-44b3-b631-e85d00f265ea        1537   39   3.00   1.36        5   \n",
       "000c3ad6-ac2d-4ca8-abe9-853099f8a568         597   18  19.00   1.02        3   \n",
       "0014c43e-cdee-41e7-a5f8-60a15a6f9cc2        2510   63   9.00   1.07        3   \n",
       "\n",
       "                                        Comment    Court       Date   L1   L2  \\\n",
       "uuid                                                                            \n",
       "000569ca-bcdb-4266-98a0-b409cb8932ff  Completed   Indoor 2016-02-09  3.0  4.0   \n",
       "00056f39-ba9b-4807-ac20-cbbcf9e2c304    Retired  Outdoor 2010-08-04  5.0  2.0   \n",
       "000a7190-03aa-44b3-b631-e85d00f265ea  Completed  Outdoor 2015-06-29  3.0  7.0   \n",
       "000c3ad6-ac2d-4ca8-abe9-853099f8a568  Completed  Outdoor 2012-02-28  3.0  6.0   \n",
       "0014c43e-cdee-41e7-a5f8-60a15a6f9cc2  Completed   Indoor 2016-10-25  7.0  1.0   \n",
       "\n",
       "                                      ...  one_clay_vv  one_grass_vv  \\\n",
       "uuid                                  ...                              \n",
       "000569ca-bcdb-4266-98a0-b409cb8932ff  ...          0.0           0.0   \n",
       "00056f39-ba9b-4807-ac20-cbbcf9e2c304  ...          NaN           NaN   \n",
       "000a7190-03aa-44b3-b631-e85d00f265ea  ...          0.0           1.0   \n",
       "000c3ad6-ac2d-4ca8-abe9-853099f8a568  ...          1.0           0.0   \n",
       "0014c43e-cdee-41e7-a5f8-60a15a6f9cc2  ...          0.0           0.0   \n",
       "\n",
       "                                      one_hard_vv  one_three_vv  one_five_vv  \\\n",
       "uuid                                                                           \n",
       "000569ca-bcdb-4266-98a0-b409cb8932ff          1.0           1.0          0.0   \n",
       "00056f39-ba9b-4807-ac20-cbbcf9e2c304          NaN           NaN          NaN   \n",
       "000a7190-03aa-44b3-b631-e85d00f265ea          1.0           1.0          1.0   \n",
       "000c3ad6-ac2d-4ca8-abe9-853099f8a568          1.0           1.0          1.0   \n",
       "0014c43e-cdee-41e7-a5f8-60a15a6f9cc2          1.0           1.0          0.0   \n",
       "\n",
       "                                     pts_diff player_one_pts  player_two_pts  \\\n",
       "uuid                                                                           \n",
       "000569ca-bcdb-4266-98a0-b409cb8932ff    301.0          414.0           113.0   \n",
       "00056f39-ba9b-4807-ac20-cbbcf9e2c304   -610.0         1385.0           775.0   \n",
       "000a7190-03aa-44b3-b631-e85d00f265ea    347.0          895.0           548.0   \n",
       "000c3ad6-ac2d-4ca8-abe9-853099f8a568   6663.0         7150.0           487.0   \n",
       "0014c43e-cdee-41e7-a5f8-60a15a6f9cc2   5311.0         5820.0           509.0   \n",
       "\n",
       "                                     player_one_sets player_two_sets  \n",
       "uuid                                                                  \n",
       "000569ca-bcdb-4266-98a0-b409cb8932ff             2.0             0.0  \n",
       "00056f39-ba9b-4807-ac20-cbbcf9e2c304             0.0             1.0  \n",
       "000a7190-03aa-44b3-b631-e85d00f265ea             3.0             2.0  \n",
       "000c3ad6-ac2d-4ca8-abe9-853099f8a568             2.0             1.0  \n",
       "0014c43e-cdee-41e7-a5f8-60a15a6f9cc2             2.0             1.0  \n",
       "\n",
       "[5 rows x 86 columns]"
      ]
     },
     "execution_count": 47,
     "metadata": {},
     "output_type": "execute_result"
    }
   ],
   "source": [
    "new_data.head()"
   ]
  },
  {
   "cell_type": "code",
   "execution_count": 48,
   "metadata": {},
   "outputs": [],
   "source": [
    "new_data.to_csv('data/final_2.csv', header=True)"
   ]
  },
  {
   "cell_type": "code",
   "execution_count": null,
   "metadata": {},
   "outputs": [],
   "source": []
  }
 ],
 "metadata": {
  "kernelspec": {
   "display_name": "Python 3",
   "language": "python",
   "name": "python3"
  },
  "language_info": {
   "codemirror_mode": {
    "name": "ipython",
    "version": 3
   },
   "file_extension": ".py",
   "mimetype": "text/x-python",
   "name": "python",
   "nbconvert_exporter": "python",
   "pygments_lexer": "ipython3",
   "version": "3.6.9"
  }
 },
 "nbformat": 4,
 "nbformat_minor": 2
}
