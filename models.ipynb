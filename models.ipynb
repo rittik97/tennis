{
 "cells": [
  {
   "cell_type": "markdown",
   "metadata": {},
   "source": [
    "## TOC:\n",
    "* [Model to predict match results](#first-bullet)\n",
    "* [Model to predict # of games](#second-bullet)\n",
    "* [test results](#third-bullet)"
   ]
  },
  {
   "cell_type": "code",
   "execution_count": 1,
   "metadata": {},
   "outputs": [],
   "source": [
    "import pandas as pd\n",
    "import numpy as np\n",
    "import matplotlib.pyplot as plt\n",
    "import seaborn as sns"
   ]
  },
  {
   "cell_type": "code",
   "execution_count": 2,
   "metadata": {},
   "outputs": [],
   "source": [
    "from sklearn.linear_model import LogisticRegression\n",
    "from sklearn.model_selection import train_test_split\n",
    "from sklearn.preprocessing import LabelBinarizer, StandardScaler, LabelEncoder\n",
    "\n",
    "from sklearn.impute import SimpleImputer\n",
    "\n",
    "from sklearn_pandas import DataFrameMapper\n",
    "\n",
    "from sklearn.metrics import accuracy_score,r2_score, roc_auc_score"
   ]
  },
  {
   "cell_type": "code",
   "execution_count": 3,
   "metadata": {},
   "outputs": [],
   "source": [
    "import tensorflow as tf\n",
    "from tensorflow import keras\n",
    "from tensorflow.keras.models import Sequential, Model\n",
    "from tensorflow.keras.layers import Dense, Input\n",
    "from tensorflow.keras.callbacks import EarlyStopping, ModelCheckpoint\n",
    "from tensorflow.keras.layers import Dropout\n",
    "from tensorflow.keras.models import load_model\n",
    "\n"
   ]
  },
  {
   "cell_type": "code",
   "execution_count": 4,
   "metadata": {},
   "outputs": [],
   "source": [
    "data=pd.read_csv('data/final_2.csv' ,encoding = \"ISO-8859-1\")"
   ]
  },
  {
   "cell_type": "code",
   "execution_count": 5,
   "metadata": {},
   "outputs": [
    {
     "data": {
      "text/html": [
       "<div>\n",
       "<style scoped>\n",
       "    .dataframe tbody tr th:only-of-type {\n",
       "        vertical-align: middle;\n",
       "    }\n",
       "\n",
       "    .dataframe tbody tr th {\n",
       "        vertical-align: top;\n",
       "    }\n",
       "\n",
       "    .dataframe thead th {\n",
       "        text-align: right;\n",
       "    }\n",
       "</style>\n",
       "<table border=\"1\" class=\"dataframe\">\n",
       "  <thead>\n",
       "    <tr style=\"text-align: right;\">\n",
       "      <th></th>\n",
       "      <th>uuid</th>\n",
       "      <th>Unnamed: 0</th>\n",
       "      <th>ATP</th>\n",
       "      <th>B365L</th>\n",
       "      <th>B365W</th>\n",
       "      <th>Best of</th>\n",
       "      <th>Comment</th>\n",
       "      <th>Court</th>\n",
       "      <th>Date</th>\n",
       "      <th>L1</th>\n",
       "      <th>...</th>\n",
       "      <th>one_clay_vv</th>\n",
       "      <th>one_grass_vv</th>\n",
       "      <th>one_hard_vv</th>\n",
       "      <th>one_three_vv</th>\n",
       "      <th>one_five_vv</th>\n",
       "      <th>pts_diff</th>\n",
       "      <th>player_one_pts</th>\n",
       "      <th>player_two_pts</th>\n",
       "      <th>player_one_sets</th>\n",
       "      <th>player_two_sets</th>\n",
       "    </tr>\n",
       "  </thead>\n",
       "  <tbody>\n",
       "    <tr>\n",
       "      <th>0</th>\n",
       "      <td>000569ca-bcdb-4266-98a0-b409cb8932ff</td>\n",
       "      <td>383</td>\n",
       "      <td>11</td>\n",
       "      <td>5.00</td>\n",
       "      <td>1.16</td>\n",
       "      <td>3</td>\n",
       "      <td>Completed</td>\n",
       "      <td>Indoor</td>\n",
       "      <td>2016-02-09</td>\n",
       "      <td>3.0</td>\n",
       "      <td>...</td>\n",
       "      <td>0.0</td>\n",
       "      <td>0.0</td>\n",
       "      <td>1.0</td>\n",
       "      <td>1.0</td>\n",
       "      <td>0.0</td>\n",
       "      <td>301.0</td>\n",
       "      <td>414.0</td>\n",
       "      <td>113.0</td>\n",
       "      <td>2.0</td>\n",
       "      <td>0.0</td>\n",
       "    </tr>\n",
       "    <tr>\n",
       "      <th>1</th>\n",
       "      <td>00056f39-ba9b-4807-ac20-cbbcf9e2c304</td>\n",
       "      <td>1887</td>\n",
       "      <td>45</td>\n",
       "      <td>1.36</td>\n",
       "      <td>3.00</td>\n",
       "      <td>3</td>\n",
       "      <td>Retired</td>\n",
       "      <td>Outdoor</td>\n",
       "      <td>2010-08-04</td>\n",
       "      <td>5.0</td>\n",
       "      <td>...</td>\n",
       "      <td>NaN</td>\n",
       "      <td>NaN</td>\n",
       "      <td>NaN</td>\n",
       "      <td>NaN</td>\n",
       "      <td>NaN</td>\n",
       "      <td>-610.0</td>\n",
       "      <td>1385.0</td>\n",
       "      <td>775.0</td>\n",
       "      <td>0.0</td>\n",
       "      <td>1.0</td>\n",
       "    </tr>\n",
       "    <tr>\n",
       "      <th>2</th>\n",
       "      <td>000a7190-03aa-44b3-b631-e85d00f265ea</td>\n",
       "      <td>1537</td>\n",
       "      <td>39</td>\n",
       "      <td>3.00</td>\n",
       "      <td>1.36</td>\n",
       "      <td>5</td>\n",
       "      <td>Completed</td>\n",
       "      <td>Outdoor</td>\n",
       "      <td>2015-06-29</td>\n",
       "      <td>3.0</td>\n",
       "      <td>...</td>\n",
       "      <td>0.0</td>\n",
       "      <td>1.0</td>\n",
       "      <td>1.0</td>\n",
       "      <td>1.0</td>\n",
       "      <td>1.0</td>\n",
       "      <td>347.0</td>\n",
       "      <td>895.0</td>\n",
       "      <td>548.0</td>\n",
       "      <td>3.0</td>\n",
       "      <td>2.0</td>\n",
       "    </tr>\n",
       "    <tr>\n",
       "      <th>3</th>\n",
       "      <td>000c3ad6-ac2d-4ca8-abe9-853099f8a568</td>\n",
       "      <td>597</td>\n",
       "      <td>18</td>\n",
       "      <td>19.00</td>\n",
       "      <td>1.02</td>\n",
       "      <td>3</td>\n",
       "      <td>Completed</td>\n",
       "      <td>Outdoor</td>\n",
       "      <td>2012-02-28</td>\n",
       "      <td>3.0</td>\n",
       "      <td>...</td>\n",
       "      <td>1.0</td>\n",
       "      <td>0.0</td>\n",
       "      <td>1.0</td>\n",
       "      <td>1.0</td>\n",
       "      <td>1.0</td>\n",
       "      <td>6663.0</td>\n",
       "      <td>7150.0</td>\n",
       "      <td>487.0</td>\n",
       "      <td>2.0</td>\n",
       "      <td>1.0</td>\n",
       "    </tr>\n",
       "    <tr>\n",
       "      <th>4</th>\n",
       "      <td>0014c43e-cdee-41e7-a5f8-60a15a6f9cc2</td>\n",
       "      <td>2510</td>\n",
       "      <td>63</td>\n",
       "      <td>9.00</td>\n",
       "      <td>1.07</td>\n",
       "      <td>3</td>\n",
       "      <td>Completed</td>\n",
       "      <td>Indoor</td>\n",
       "      <td>2016-10-25</td>\n",
       "      <td>7.0</td>\n",
       "      <td>...</td>\n",
       "      <td>0.0</td>\n",
       "      <td>0.0</td>\n",
       "      <td>1.0</td>\n",
       "      <td>1.0</td>\n",
       "      <td>0.0</td>\n",
       "      <td>5311.0</td>\n",
       "      <td>5820.0</td>\n",
       "      <td>509.0</td>\n",
       "      <td>2.0</td>\n",
       "      <td>1.0</td>\n",
       "    </tr>\n",
       "  </tbody>\n",
       "</table>\n",
       "<p>5 rows × 87 columns</p>\n",
       "</div>"
      ],
      "text/plain": [
       "                                   uuid  Unnamed: 0  ATP  B365L  B365W  \\\n",
       "0  000569ca-bcdb-4266-98a0-b409cb8932ff         383   11   5.00   1.16   \n",
       "1  00056f39-ba9b-4807-ac20-cbbcf9e2c304        1887   45   1.36   3.00   \n",
       "2  000a7190-03aa-44b3-b631-e85d00f265ea        1537   39   3.00   1.36   \n",
       "3  000c3ad6-ac2d-4ca8-abe9-853099f8a568         597   18  19.00   1.02   \n",
       "4  0014c43e-cdee-41e7-a5f8-60a15a6f9cc2        2510   63   9.00   1.07   \n",
       "\n",
       "   Best of    Comment    Court        Date   L1  ...  one_clay_vv  \\\n",
       "0        3  Completed   Indoor  2016-02-09  3.0  ...          0.0   \n",
       "1        3    Retired  Outdoor  2010-08-04  5.0  ...          NaN   \n",
       "2        5  Completed  Outdoor  2015-06-29  3.0  ...          0.0   \n",
       "3        3  Completed  Outdoor  2012-02-28  3.0  ...          1.0   \n",
       "4        3  Completed   Indoor  2016-10-25  7.0  ...          0.0   \n",
       "\n",
       "   one_grass_vv  one_hard_vv  one_three_vv  one_five_vv  pts_diff  \\\n",
       "0           0.0          1.0           1.0          0.0     301.0   \n",
       "1           NaN          NaN           NaN          NaN    -610.0   \n",
       "2           1.0          1.0           1.0          1.0     347.0   \n",
       "3           0.0          1.0           1.0          1.0    6663.0   \n",
       "4           0.0          1.0           1.0          0.0    5311.0   \n",
       "\n",
       "  player_one_pts player_two_pts  player_one_sets player_two_sets  \n",
       "0          414.0          113.0              2.0             0.0  \n",
       "1         1385.0          775.0              0.0             1.0  \n",
       "2          895.0          548.0              3.0             2.0  \n",
       "3         7150.0          487.0              2.0             1.0  \n",
       "4         5820.0          509.0              2.0             1.0  \n",
       "\n",
       "[5 rows x 87 columns]"
      ]
     },
     "execution_count": 5,
     "metadata": {},
     "output_type": "execute_result"
    }
   ],
   "source": [
    "data.head()"
   ]
  },
  {
   "cell_type": "code",
   "execution_count": 6,
   "metadata": {},
   "outputs": [
    {
     "data": {
      "text/plain": [
       "Comment\n",
       "Awarded         0.000035\n",
       "Completed       0.961710\n",
       "Disqualified    0.000035\n",
       "Retired         0.031937\n",
       "Sched           0.000069\n",
       "Walkover        0.006215\n",
       "Name: Comment, dtype: float64"
      ]
     },
     "execution_count": 6,
     "metadata": {},
     "output_type": "execute_result"
    }
   ],
   "source": [
    "data.groupby('Comment')['Comment'].count()/len(data)"
   ]
  },
  {
   "cell_type": "code",
   "execution_count": 7,
   "metadata": {},
   "outputs": [],
   "source": [
    "data=data[data.Comment=='Completed']"
   ]
  },
  {
   "cell_type": "code",
   "execution_count": 8,
   "metadata": {},
   "outputs": [
    {
     "data": {
      "text/plain": [
       "Index(['uuid', 'Unnamed: 0', 'ATP', 'B365L', 'B365W', 'Best of', 'Comment',\n",
       "       'Court', 'Date', 'L1', 'L2', 'L3', 'L4', 'L5', 'LPts', 'LRank',\n",
       "       'Location', 'Loser', 'Lsets', 'Round', 'Series', 'Surface',\n",
       "       'Tournament', 'W1', 'W2', 'W3', 'W4', 'W5', 'WPts', 'WRank', 'Winner',\n",
       "       'Wsets', 'rank_diff', 'outcome', 'player_one', 'player_two',\n",
       "       'player_one_rank', 'player_two_rank', 'uuid.1', 'one_name', 'one_date',\n",
       "       'one_cutoff_date', 'one_win_rate_year', 'one_games_played_year',\n",
       "       'one_clay_year', 'one_grass_year', 'one_hard_year', 'one_three_year',\n",
       "       'one_five_year', 'two_name', 'two_date', 'two_cutoff_date',\n",
       "       'two_win_rate_year', 'two_games_played_year', 'two_clay_year',\n",
       "       'two_grass_year', 'two_hard_year', 'two_three_year', 'two_five_year',\n",
       "       'major', 'total_games', 'player_one_total_games',\n",
       "       'player_two_total_games', 'total_sets', 'player_two_name_vv',\n",
       "       'two_cutoff_date_vv', 'two_win_rate_vv', 'two_games_played_vv',\n",
       "       'two_clay_vv', 'two_grass_vv', 'two_hard_vv', 'two_three_vv',\n",
       "       'two_five_vv', 'player_one_name_vv', 'one_cutoff_date_vv',\n",
       "       'one_win_rate_vv', 'one_games_played_vv', 'one_clay_vv', 'one_grass_vv',\n",
       "       'one_hard_vv', 'one_three_vv', 'one_five_vv', 'pts_diff',\n",
       "       'player_one_pts', 'player_two_pts', 'player_one_sets',\n",
       "       'player_two_sets'],\n",
       "      dtype='object')"
      ]
     },
     "execution_count": 8,
     "metadata": {},
     "output_type": "execute_result"
    }
   ],
   "source": [
    "data.columns"
   ]
  },
  {
   "cell_type": "code",
   "execution_count": null,
   "metadata": {},
   "outputs": [],
   "source": [
    "print(\"% of games with only top 100 players: \",len(data[(data.WRank<=100) & (data.LRank<=100)])/len(data))"
   ]
  },
  {
   "cell_type": "code",
   "execution_count": null,
   "metadata": {},
   "outputs": [],
   "source": [
    "# % of times the higher ranked player one\n",
    "data.groupby('outcome')['outcome'].count()/len(data)"
   ]
  },
  {
   "cell_type": "code",
   "execution_count": null,
   "metadata": {},
   "outputs": [],
   "source": [
    "# % of times the higher ranked player one in 5set games\n",
    "data[data['Best of']==5].groupby('outcome')['outcome'].count()/len(data[data['Best of']==5])"
   ]
  },
  {
   "cell_type": "code",
   "execution_count": null,
   "metadata": {},
   "outputs": [],
   "source": [
    "# % of times the higher ranked player one in 5set games\n",
    "data[data['Best of']==3].groupby('total_sets')['total_sets'].count()"
   ]
  },
  {
   "cell_type": "code",
   "execution_count": null,
   "metadata": {},
   "outputs": [],
   "source": [
    "data[(data['Best of']==3) & (data.total_sets==1.0)]"
   ]
  },
  {
   "cell_type": "code",
   "execution_count": null,
   "metadata": {},
   "outputs": [],
   "source": []
  },
  {
   "cell_type": "code",
   "execution_count": 9,
   "metadata": {},
   "outputs": [],
   "source": [
    "data['rank_dif']=data['player_two_rank']-data['player_one_rank']\n",
    "data['pts_dif']=data['player_two_pts']-data['player_one_pts']\n",
    "data['win_rate_diff']=data['two_win_rate_year']-data['one_win_rate_year']\n",
    "data['hard_diff']=data['two_hard_year']-data['one_hard_year']\n",
    "data['five_diff']=data['two_five_year']-data['one_five_year']\n",
    "data['three_diff']=data['two_three_year']-data['one_three_year']\n",
    "\n",
    "data['hard_vv']=data['two_hard_vv']-data['one_hard_vv']\n",
    "data['vv']=data['two_win_rate_vv']-data['one_win_rate_vv']\n",
    "\n",
    "\n"
   ]
  },
  {
   "cell_type": "markdown",
   "metadata": {},
   "source": [
    "## Model to predict match results <a class=\"anchor\" id=\"first-bullet\"></a>"
   ]
  },
  {
   "cell_type": "code",
   "execution_count": null,
   "metadata": {},
   "outputs": [],
   "source": [
    "t.columns"
   ]
  },
  {
   "cell_type": "code",
   "execution_count": null,
   "metadata": {},
   "outputs": [],
   "source": [
    "data.shape"
   ]
  },
  {
   "cell_type": "code",
   "execution_count": 10,
   "metadata": {},
   "outputs": [],
   "source": [
    "t=data\n"
   ]
  },
  {
   "cell_type": "code",
   "execution_count": 11,
   "metadata": {},
   "outputs": [],
   "source": [
    "\n",
    "feature_columns=['player_one_rank','player_two_rank','Surface', 'Best of','one_win_rate_year',\n",
    "       'one_games_played_year', 'one_clay_year', 'one_grass_year',\n",
    "       'one_hard_year', 'one_three_year', 'one_five_year', 'two_win_rate_year',\n",
    "       'two_games_played_year', 'two_clay_year', 'two_grass_year',\n",
    "       'two_hard_year', 'two_three_year', 'two_five_year', 'major','one_win_rate_vv', 'one_games_played_vv', 'one_clay_vv', 'one_grass_vv',\n",
    "       'one_hard_vv', 'one_three_vv', 'one_five_vv','two_win_rate_vv',\n",
    "       'two_games_played_vv', 'two_clay_vv', 'two_grass_vv', 'two_hard_vv',\n",
    "       'two_three_vv', 'two_five_vv', 'rank_dif', 'win_rate_diff', 'hard_diff',\n",
    "       'five_diff', 'three_diff', 'hard_vv', 'vv' ,'pts_diff', 'outcome']\n",
    "data=data[feature_columns].dropna()"
   ]
  },
  {
   "cell_type": "code",
   "execution_count": 12,
   "metadata": {},
   "outputs": [],
   "source": [
    "target='outcome'\n",
    "y=data[target]\n",
    "X=data.drop('outcome',axis=1)"
   ]
  },
  {
   "cell_type": "code",
   "execution_count": 13,
   "metadata": {},
   "outputs": [],
   "source": [
    "X_train, X_test, y_train, y_test = train_test_split(X, y, test_size=0.2, random_state=42)"
   ]
  },
  {
   "cell_type": "code",
   "execution_count": 16,
   "metadata": {},
   "outputs": [],
   "source": [
    "mapper = DataFrameMapper([\n",
    "    (['player_one_rank'], [StandardScaler(),SimpleImputer()]),\n",
    "    (['player_two_rank'], [StandardScaler(),SimpleImputer()]),\n",
    "    (['Surface'], [SimpleImputer(strategy='constant', fill_value='most_frequent'),LabelBinarizer()]),\n",
    "    ('Best of', LabelEncoder()),\n",
    "    (['one_win_rate_year'],StandardScaler()),\n",
    "    (['one_games_played_year'], StandardScaler()),\n",
    "    (['one_clay_year'], StandardScaler()),\n",
    "    (['one_grass_year'],StandardScaler()),\n",
    "    (['one_hard_year'], StandardScaler()),\n",
    "    (['one_three_year'], StandardScaler()),\n",
    "    (['one_five_year'], StandardScaler()),\n",
    "    (['two_win_rate_year'],StandardScaler()),\n",
    "    (['two_games_played_year'], StandardScaler()),\n",
    "    (['two_clay_year'], StandardScaler()),\n",
    "    (['two_grass_year'],StandardScaler()),\n",
    "    (['two_hard_year'], StandardScaler()),\n",
    "    (['two_three_year'], StandardScaler()),\n",
    "    (['two_five_year'], StandardScaler()),\n",
    "    ('major', LabelEncoder()),\n",
    "    (['one_win_rate_vv'],StandardScaler()), \n",
    "    (['one_games_played_vv'],StandardScaler()),  \n",
    "    (['one_clay_vv'],StandardScaler()),  \n",
    "    (['one_grass_vv'],StandardScaler()), \n",
    "    (['one_hard_vv'],StandardScaler()),  \n",
    "    (['one_three_vv'],StandardScaler()),  \n",
    "    (['one_five_vv'],StandardScaler()),\n",
    "    (['two_win_rate_vv'],StandardScaler()), \n",
    "    (['two_games_played_vv'],StandardScaler()),  \n",
    "    (['two_clay_vv'],StandardScaler()),  \n",
    "    (['two_grass_vv'],StandardScaler()), \n",
    "    (['two_hard_vv'],StandardScaler()),  \n",
    "    (['two_three_vv'],StandardScaler()),  \n",
    "    (['two_five_vv'],StandardScaler()),    \n",
    "    (['rank_dif'],StandardScaler()),  \n",
    "    (['pts_diff'],[StandardScaler(),SimpleImputer()]),  \n",
    "    (['win_rate_diff'],StandardScaler()),  \n",
    "    (['hard_diff'],StandardScaler()),\n",
    "    (['five_diff'],StandardScaler()), \n",
    "    (['three_diff'],StandardScaler()),\n",
    "    (['hard_vv'],StandardScaler()),\n",
    "    (['vv'],StandardScaler())\n",
    "    \n",
    "], df_out=\n",
    "    True)\n"
   ]
  },
  {
   "cell_type": "code",
   "execution_count": 17,
   "metadata": {},
   "outputs": [
    {
     "name": "stdout",
     "output_type": "stream",
     "text": [
      "CPU times: user 245 ms, sys: 25.8 ms, total: 271 ms\n",
      "Wall time: 272 ms\n"
     ]
    }
   ],
   "source": [
    "%%time\n",
    "Z_train=mapper.fit_transform(X_train)\n",
    "Z_test=mapper.transform(X_test)"
   ]
  },
  {
   "cell_type": "code",
   "execution_count": 18,
   "metadata": {},
   "outputs": [],
   "source": [
    "model=LogisticRegression(C=20, max_iter=1000, n_jobs=1)"
   ]
  },
  {
   "cell_type": "code",
   "execution_count": 19,
   "metadata": {},
   "outputs": [
    {
     "data": {
      "text/plain": [
       "LogisticRegression(C=20, class_weight=None, dual=False, fit_intercept=True,\n",
       "                   intercept_scaling=1, l1_ratio=None, max_iter=1000,\n",
       "                   multi_class='auto', n_jobs=1, penalty='l2',\n",
       "                   random_state=None, solver='lbfgs', tol=0.0001, verbose=0,\n",
       "                   warm_start=False)"
      ]
     },
     "execution_count": 19,
     "metadata": {},
     "output_type": "execute_result"
    }
   ],
   "source": [
    "model.fit(Z_train,y_train)"
   ]
  },
  {
   "cell_type": "code",
   "execution_count": 20,
   "metadata": {},
   "outputs": [
    {
     "data": {
      "text/plain": [
       "0.9967629482071713"
      ]
     },
     "execution_count": 20,
     "metadata": {},
     "output_type": "execute_result"
    }
   ],
   "source": [
    "model.score(Z_train,y_train)"
   ]
  },
  {
   "cell_type": "code",
   "execution_count": 21,
   "metadata": {},
   "outputs": [],
   "source": [
    "y_pred=model.predict(Z_test)"
   ]
  },
  {
   "cell_type": "code",
   "execution_count": 22,
   "metadata": {},
   "outputs": [
    {
     "data": {
      "text/plain": [
       "(0.9938259310894244, 0.9927517672923577)"
      ]
     },
     "execution_count": 22,
     "metadata": {},
     "output_type": "execute_result"
    }
   ],
   "source": [
    "accuracy_score(y_test,y_pred),roc_auc_score(y_test,y_pred)"
   ]
  },
  {
   "cell_type": "code",
   "execution_count": null,
   "metadata": {},
   "outputs": [],
   "source": [
    "Z_train.columns[model.coef_.argsort()]"
   ]
  },
  {
   "cell_type": "code",
   "execution_count": null,
   "metadata": {},
   "outputs": [],
   "source": [
    "m = Sequential()\n",
    "m.add(Dense(units=64, activation='relu', input_shape=(Z_train.shape[1],)))\n",
    "m.add(Dropout(0.2))\n",
    "m.add(Dense(units=32, activation='relu'))\n",
    "m.add(Dropout(0.2))\n",
    "m.add(Dense(units=16, activation='relu'))\n",
    "m.add(Dropout(0.2))\n",
    "m.add(Dense(units=5, activation='relu'))\n",
    "m.add(Dropout(0.2))\n",
    "m.add(Dense(units=1, activation='sigmoid'))\n",
    "\n",
    "m.compile(loss='binary_crossentropy', optimizer='adam', metrics=['accuracy']) \n",
    "mc=ModelCheckpoint('data/best_model.h5', monitor='val_accuracy', mode='max', verbose=2, save_best_only=True)\n",
    "early_stop = EarlyStopping(monitor='val_accuracy', min_delta=0, patience=15)"
   ]
  },
  {
   "cell_type": "code",
   "execution_count": null,
   "metadata": {},
   "outputs": [],
   "source": [
    "hist = m.fit( Z_train,\n",
    "                    y_train, \n",
    "                    batch_size=128,\n",
    "                    validation_data=(Z_test, y_test),\n",
    "                    epochs=175,\n",
    "                    callbacks=[mc],\n",
    "                    verbose=1)"
   ]
  },
  {
   "cell_type": "code",
   "execution_count": null,
   "metadata": {},
   "outputs": [],
   "source": [
    "plt.figure(figsize=(8,6))\n",
    "plt.plot(hist.history['val_accuracy'], label='Val Accuracy')\n",
    "plt.plot(hist.history['accuracy'], label='Train Accuracy')\n",
    "plt.legend();"
   ]
  },
  {
   "cell_type": "markdown",
   "metadata": {},
   "source": [
    "## Test Results <a class=\"anchor\" id=\"third-bullet\"></a>"
   ]
  },
  {
   "cell_type": "code",
   "execution_count": 23,
   "metadata": {},
   "outputs": [],
   "source": [
    "data=t"
   ]
  },
  {
   "cell_type": "code",
   "execution_count": 75,
   "metadata": {},
   "outputs": [],
   "source": [
    "player_one_name='Cilic M.'\n",
    "player_two_name='Federer R.'\n",
    "Surface='Hard'\n",
    "Major=1\n",
    "best_of=5\n",
    "vals=[Surface,Major,best_of]\n",
    "cols_to_get_one=['player_one_rank','one_win_rate_year',\n",
    "       'one_games_played_year', 'one_clay_year', 'one_grass_year',\n",
    "       'one_hard_year', 'one_three_year', 'one_five_year','one_hard_vv','one_win_rate_vv','one_games_played_vv'\n",
    "                ,'one_three_vv','one_five_vv','player_one_pts','one_clay_vv','one_grass_vv']\n",
    "\n",
    "cols_to_get_two=['player_two_rank','two_win_rate_year',\n",
    "       'two_games_played_year', 'two_clay_year', 'two_grass_year',\n",
    "       'two_hard_year', 'two_three_year', 'two_five_year','two_hard_vv','two_win_rate_vv',\n",
    "                 'two_games_played_vv','two_three_vv','two_five_vv','player_two_pts','two_clay_vv',\n",
    "                 'two_grass_vv']\n",
    "\n",
    "one=list(data[data.player_one==player_one_name][cols_to_get_one].head(1).values[0])\n",
    "two=list(data[data.player_two==player_two_name][cols_to_get_two].head(1).values[0])\n",
    "\n",
    "temp=vals+one+two\n",
    "temp=pd.DataFrame(temp).T\n",
    "temp.columns=['Surface','major', 'Best of','player_one_rank','one_win_rate_year',\n",
    "       'one_games_played_year', 'one_clay_year', 'one_grass_year',\n",
    "       'one_hard_year', 'one_three_year', 'one_five_year', 'one_hard_vv','one_win_rate_vv','one_games_played_vv','one_three_vv',\n",
    "              'one_five_vv','player_one_pts','one_clay_vv','one_grass_vv'\n",
    "        ,'player_two_rank','two_win_rate_year',\n",
    "       'two_games_played_year', 'two_clay_year', 'two_grass_year',\n",
    "       'two_hard_year', 'two_three_year', 'two_five_year','two_hard_vv','two_win_rate_vv','two_games_played_vv','two_three_vv',\n",
    "              'two_five_vv','player_two_pts','two_clay_vv','two_grass_vv'\n",
    "             ]\n",
    "# "
   ]
  },
  {
   "cell_type": "code",
   "execution_count": 91,
   "metadata": {},
   "outputs": [
    {
     "data": {
      "text/html": [
       "<div>\n",
       "<style scoped>\n",
       "    .dataframe tbody tr th:only-of-type {\n",
       "        vertical-align: middle;\n",
       "    }\n",
       "\n",
       "    .dataframe tbody tr th {\n",
       "        vertical-align: top;\n",
       "    }\n",
       "\n",
       "    .dataframe thead th {\n",
       "        text-align: right;\n",
       "    }\n",
       "</style>\n",
       "<table border=\"1\" class=\"dataframe\">\n",
       "  <thead>\n",
       "    <tr style=\"text-align: right;\">\n",
       "      <th></th>\n",
       "      <th>Date</th>\n",
       "      <th>player_one</th>\n",
       "      <th>player_one_rank</th>\n",
       "      <th>one_win_rate_year</th>\n",
       "      <th>one_games_played_year</th>\n",
       "      <th>one_clay_year</th>\n",
       "      <th>one_grass_year</th>\n",
       "      <th>one_hard_year</th>\n",
       "      <th>one_three_year</th>\n",
       "      <th>one_five_year</th>\n",
       "      <th>one_hard_vv</th>\n",
       "      <th>one_win_rate_vv</th>\n",
       "      <th>one_games_played_vv</th>\n",
       "      <th>one_three_vv</th>\n",
       "      <th>one_five_vv</th>\n",
       "      <th>player_one_pts</th>\n",
       "      <th>one_clay_vv</th>\n",
       "      <th>one_grass_vv</th>\n",
       "    </tr>\n",
       "  </thead>\n",
       "  <tbody>\n",
       "    <tr>\n",
       "      <th>18396</th>\n",
       "      <td>2019-10-28</td>\n",
       "      <td>Cilic M.</td>\n",
       "      <td>24.0</td>\n",
       "      <td>0.680851</td>\n",
       "      <td>47.0</td>\n",
       "      <td>0.5</td>\n",
       "      <td>0.5</td>\n",
       "      <td>0.484848</td>\n",
       "      <td>0.472222</td>\n",
       "      <td>0.545455</td>\n",
       "      <td>1.0</td>\n",
       "      <td>1.0</td>\n",
       "      <td>1.0</td>\n",
       "      <td>1.0</td>\n",
       "      <td>0.0</td>\n",
       "      <td>1500.0</td>\n",
       "      <td>0.0</td>\n",
       "      <td>0.0</td>\n",
       "    </tr>\n",
       "    <tr>\n",
       "      <th>18303</th>\n",
       "      <td>2019-10-19</td>\n",
       "      <td>Cilic M.</td>\n",
       "      <td>25.0</td>\n",
       "      <td>0.673469</td>\n",
       "      <td>49.0</td>\n",
       "      <td>0.5</td>\n",
       "      <td>0.5</td>\n",
       "      <td>0.485714</td>\n",
       "      <td>0.473684</td>\n",
       "      <td>0.545455</td>\n",
       "      <td>1.0</td>\n",
       "      <td>1.0</td>\n",
       "      <td>2.0</td>\n",
       "      <td>1.0</td>\n",
       "      <td>0.0</td>\n",
       "      <td>1455.0</td>\n",
       "      <td>0.0</td>\n",
       "      <td>0.0</td>\n",
       "    </tr>\n",
       "    <tr>\n",
       "      <th>14742</th>\n",
       "      <td>2019-10-18</td>\n",
       "      <td>Cilic M.</td>\n",
       "      <td>25.0</td>\n",
       "      <td>0.673469</td>\n",
       "      <td>49.0</td>\n",
       "      <td>0.5</td>\n",
       "      <td>0.5</td>\n",
       "      <td>0.485714</td>\n",
       "      <td>0.473684</td>\n",
       "      <td>0.545455</td>\n",
       "      <td>1.0</td>\n",
       "      <td>1.0</td>\n",
       "      <td>1.0</td>\n",
       "      <td>1.0</td>\n",
       "      <td>0.0</td>\n",
       "      <td>1455.0</td>\n",
       "      <td>0.0</td>\n",
       "      <td>0.0</td>\n",
       "    </tr>\n",
       "    <tr>\n",
       "      <th>5146</th>\n",
       "      <td>2019-10-17</td>\n",
       "      <td>Cilic M.</td>\n",
       "      <td>25.0</td>\n",
       "      <td>0.673469</td>\n",
       "      <td>49.0</td>\n",
       "      <td>0.5</td>\n",
       "      <td>0.5</td>\n",
       "      <td>0.485714</td>\n",
       "      <td>0.473684</td>\n",
       "      <td>0.545455</td>\n",
       "      <td>1.0</td>\n",
       "      <td>1.0</td>\n",
       "      <td>1.0</td>\n",
       "      <td>1.0</td>\n",
       "      <td>0.0</td>\n",
       "      <td>1455.0</td>\n",
       "      <td>0.0</td>\n",
       "      <td>0.0</td>\n",
       "    </tr>\n",
       "    <tr>\n",
       "      <th>19385</th>\n",
       "      <td>2019-10-07</td>\n",
       "      <td>Cilic M.</td>\n",
       "      <td>25.0</td>\n",
       "      <td>0.660000</td>\n",
       "      <td>50.0</td>\n",
       "      <td>0.5</td>\n",
       "      <td>0.5</td>\n",
       "      <td>0.472222</td>\n",
       "      <td>0.461538</td>\n",
       "      <td>0.545455</td>\n",
       "      <td>1.0</td>\n",
       "      <td>1.0</td>\n",
       "      <td>1.0</td>\n",
       "      <td>1.0</td>\n",
       "      <td>0.0</td>\n",
       "      <td>1455.0</td>\n",
       "      <td>0.0</td>\n",
       "      <td>0.0</td>\n",
       "    </tr>\n",
       "  </tbody>\n",
       "</table>\n",
       "</div>"
      ],
      "text/plain": [
       "             Date player_one  player_one_rank  one_win_rate_year  \\\n",
       "18396  2019-10-28   Cilic M.             24.0           0.680851   \n",
       "18303  2019-10-19   Cilic M.             25.0           0.673469   \n",
       "14742  2019-10-18   Cilic M.             25.0           0.673469   \n",
       "5146   2019-10-17   Cilic M.             25.0           0.673469   \n",
       "19385  2019-10-07   Cilic M.             25.0           0.660000   \n",
       "\n",
       "       one_games_played_year  one_clay_year  one_grass_year  one_hard_year  \\\n",
       "18396                   47.0            0.5             0.5       0.484848   \n",
       "18303                   49.0            0.5             0.5       0.485714   \n",
       "14742                   49.0            0.5             0.5       0.485714   \n",
       "5146                    49.0            0.5             0.5       0.485714   \n",
       "19385                   50.0            0.5             0.5       0.472222   \n",
       "\n",
       "       one_three_year  one_five_year  one_hard_vv  one_win_rate_vv  \\\n",
       "18396        0.472222       0.545455          1.0              1.0   \n",
       "18303        0.473684       0.545455          1.0              1.0   \n",
       "14742        0.473684       0.545455          1.0              1.0   \n",
       "5146         0.473684       0.545455          1.0              1.0   \n",
       "19385        0.461538       0.545455          1.0              1.0   \n",
       "\n",
       "       one_games_played_vv  one_three_vv  one_five_vv  player_one_pts  \\\n",
       "18396                  1.0           1.0          0.0          1500.0   \n",
       "18303                  2.0           1.0          0.0          1455.0   \n",
       "14742                  1.0           1.0          0.0          1455.0   \n",
       "5146                   1.0           1.0          0.0          1455.0   \n",
       "19385                  1.0           1.0          0.0          1455.0   \n",
       "\n",
       "       one_clay_vv  one_grass_vv  \n",
       "18396          0.0           0.0  \n",
       "18303          0.0           0.0  \n",
       "14742          0.0           0.0  \n",
       "5146           0.0           0.0  \n",
       "19385          0.0           0.0  "
      ]
     },
     "execution_count": 91,
     "metadata": {},
     "output_type": "execute_result"
    }
   ],
   "source": [
    "player_one_name='Cilic M.'\n",
    "cols_to_get_one=['Date','player_one','player_one_rank','one_win_rate_year',\n",
    "       'one_games_played_year', 'one_clay_year', 'one_grass_year',\n",
    "       'one_hard_year', 'one_three_year', 'one_five_year','one_hard_vv','one_win_rate_vv','one_games_played_vv'\n",
    "                ,'one_three_vv','one_five_vv','player_one_pts','one_clay_vv','one_grass_vv']\n",
    "data[data.player_one==player_one_name][cols_to_get_one].sort_values('Date', ascending=False).head(5)"
   ]
  },
  {
   "cell_type": "code",
   "execution_count": 76,
   "metadata": {},
   "outputs": [],
   "source": [
    "temp['pts_diff']=temp['player_two_pts']-temp['player_one_pts']\n",
    "temp['rank_dif']=temp['player_two_rank']-temp['player_one_rank']\n",
    "temp['win_rate_diff']=temp['two_win_rate_year']-temp['one_win_rate_year']\n",
    "temp['hard_diff']=temp['two_hard_year']-temp['one_hard_year']\n",
    "temp['five_diff']=temp['two_five_year']-temp['one_five_year']\n",
    "temp['three_diff']=temp['two_three_year']-temp['one_three_year']\n",
    "\n",
    "temp['hard_vv']=temp['two_hard_vv']-temp['one_hard_vv']\n",
    "temp['vv']=temp['two_win_rate_vv']-temp['one_win_rate_vv']\n",
    "\n",
    "\n",
    "\n",
    "\n",
    "\n",
    "\n"
   ]
  },
  {
   "cell_type": "code",
   "execution_count": 77,
   "metadata": {},
   "outputs": [
    {
     "data": {
      "text/plain": [
       "Index(['Surface', 'major', 'Best of', 'player_one_rank', 'one_win_rate_year',\n",
       "       'one_games_played_year', 'one_clay_year', 'one_grass_year',\n",
       "       'one_hard_year', 'one_three_year', 'one_five_year', 'one_hard_vv',\n",
       "       'one_win_rate_vv', 'one_games_played_vv', 'one_three_vv', 'one_five_vv',\n",
       "       'player_one_pts', 'one_clay_vv', 'one_grass_vv', 'player_two_rank',\n",
       "       'two_win_rate_year', 'two_games_played_year', 'two_clay_year',\n",
       "       'two_grass_year', 'two_hard_year', 'two_three_year', 'two_five_year',\n",
       "       'two_hard_vv', 'two_win_rate_vv', 'two_games_played_vv', 'two_three_vv',\n",
       "       'two_five_vv', 'player_two_pts', 'two_clay_vv', 'two_grass_vv',\n",
       "       'pts_diff', 'rank_dif', 'win_rate_diff', 'hard_diff', 'five_diff',\n",
       "       'three_diff', 'hard_vv', 'vv'],\n",
       "      dtype='object')"
      ]
     },
     "execution_count": 77,
     "metadata": {},
     "output_type": "execute_result"
    }
   ],
   "source": [
    "temp.columns"
   ]
  },
  {
   "cell_type": "code",
   "execution_count": 78,
   "metadata": {},
   "outputs": [
    {
     "data": {
      "text/html": [
       "<div>\n",
       "<style scoped>\n",
       "    .dataframe tbody tr th:only-of-type {\n",
       "        vertical-align: middle;\n",
       "    }\n",
       "\n",
       "    .dataframe tbody tr th {\n",
       "        vertical-align: top;\n",
       "    }\n",
       "\n",
       "    .dataframe thead th {\n",
       "        text-align: right;\n",
       "    }\n",
       "</style>\n",
       "<table border=\"1\" class=\"dataframe\">\n",
       "  <thead>\n",
       "    <tr style=\"text-align: right;\">\n",
       "      <th></th>\n",
       "      <th>player_one_rank</th>\n",
       "      <th>player_two_rank</th>\n",
       "    </tr>\n",
       "  </thead>\n",
       "  <tbody>\n",
       "    <tr>\n",
       "      <th>0</th>\n",
       "      <td>3</td>\n",
       "      <td>3</td>\n",
       "    </tr>\n",
       "  </tbody>\n",
       "</table>\n",
       "</div>"
      ],
      "text/plain": [
       "  player_one_rank player_two_rank\n",
       "0               3               3"
      ]
     },
     "execution_count": 78,
     "metadata": {},
     "output_type": "execute_result"
    }
   ],
   "source": [
    "temp[['player_one_rank', 'player_two_rank']]"
   ]
  },
  {
   "cell_type": "code",
   "execution_count": 79,
   "metadata": {},
   "outputs": [],
   "source": [
    "Z_temp=mapper.transform(temp)"
   ]
  },
  {
   "cell_type": "code",
   "execution_count": 80,
   "metadata": {},
   "outputs": [
    {
     "data": {
      "text/plain": [
       "array([[0., 1.]])"
      ]
     },
     "execution_count": 80,
     "metadata": {},
     "output_type": "execute_result"
    }
   ],
   "source": [
    "model.predict_proba(Z_temp)"
   ]
  },
  {
   "cell_type": "code",
   "execution_count": null,
   "metadata": {},
   "outputs": [],
   "source": []
  },
  {
   "cell_type": "code",
   "execution_count": 64,
   "metadata": {},
   "outputs": [],
   "source": [
    "data=pd.read_csv('data/final_2.csv' ,encoding = \"ISO-8859-1\")"
   ]
  },
  {
   "cell_type": "code",
   "execution_count": null,
   "metadata": {},
   "outputs": [],
   "source": [
    "data.columns"
   ]
  },
  {
   "cell_type": "code",
   "execution_count": null,
   "metadata": {},
   "outputs": [],
   "source": [
    "plt.hist(data.total_games, bins=5);"
   ]
  },
  {
   "cell_type": "code",
   "execution_count": null,
   "metadata": {},
   "outputs": [],
   "source": [
    "\n",
    "def f(x):\n",
    "    d = {}\n",
    "    d['mean'] = x.mean()\n",
    "    d['std'] = x.std()  \n",
    "    d['0.25'] = np.quantile(x,0.25)\n",
    "    d['0.75'] = np.quantile(x,0.75)\n",
    "    d['count']=len(x)\n",
    "    d['count%']=len(x)/len(data)\n",
    "\n",
    "    return pd.Series(d)"
   ]
  },
  {
   "cell_type": "code",
   "execution_count": null,
   "metadata": {},
   "outputs": [],
   "source": [
    "data.groupby('Best of')['total_games'].apply(f)"
   ]
  },
  {
   "cell_type": "code",
   "execution_count": null,
   "metadata": {},
   "outputs": [],
   "source": [
    "t=data[np.abs(data.rank_diff)<50]\n",
    "sns.jointplot(t.rank_diff, t.total_games, kind='reg')"
   ]
  },
  {
   "cell_type": "code",
   "execution_count": null,
   "metadata": {},
   "outputs": [],
   "source": [
    "sns.jointplot(np.abs(data.rank_diff), data.total_games)"
   ]
  },
  {
   "cell_type": "code",
   "execution_count": null,
   "metadata": {},
   "outputs": [],
   "source": []
  }
 ],
 "metadata": {
  "kernelspec": {
   "display_name": "Python 3",
   "language": "python",
   "name": "python3"
  },
  "language_info": {
   "codemirror_mode": {
    "name": "ipython",
    "version": 3
   },
   "file_extension": ".py",
   "mimetype": "text/x-python",
   "name": "python",
   "nbconvert_exporter": "python",
   "pygments_lexer": "ipython3",
   "version": "3.6.9"
  }
 },
 "nbformat": 4,
 "nbformat_minor": 2
}
